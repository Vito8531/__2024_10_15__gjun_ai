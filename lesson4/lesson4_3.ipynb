{
 "cells": [
  {
   "cell_type": "markdown",
   "metadata": {},
   "source": [
    "### if....else..\n",
    "### if....elif...else.."
   ]
  },
  {
   "cell_type": "code",
   "execution_count": 5,
   "metadata": {},
   "outputs": [
    {
     "name": "stdout",
     "output_type": "stream",
     "text": [
      "及格\n",
      "優\n"
     ]
    }
   ],
   "source": [
    "scores = eval(input(\"請輸入學生分數0~100:\"))\n",
    "if scores >= 60:\n",
    "    print(\"及格\")\n",
    "    if scores >= 90:\n",
    "        print(\"優\")\n",
    "    else:\n",
    "        print(\"一般\")\n",
    "else:\n",
    "    print(\"不及格\")\n",
    "    if scores >= 50:\n",
    "        print(\"請加油!\")\n",
    "    else:\n",
    "        print(\"認真上課\")"
   ]
  },
  {
   "cell_type": "code",
   "execution_count": 12,
   "metadata": {},
   "outputs": [
    {
     "name": "stdout",
     "output_type": "stream",
     "text": [
      "丁\n"
     ]
    }
   ],
   "source": [
    "scores = eval(input(\"請輸入學生分數0~100:\"))\n",
    "if scores >= 90:\n",
    "    print(\"優\")\n",
    "else:\n",
    "    if scores >= 80:\n",
    "        print(\"甲\")\n",
    "    else:\n",
    "        if scores >= 70:\n",
    "            print(\"乙\")\n",
    "        else:\n",
    "            if scores >= 60:\n",
    "                print(\"丙\")\n",
    "            else:\n",
    "                print(\"丁\")"
   ]
  },
  {
   "cell_type": "code",
   "execution_count": 18,
   "metadata": {},
   "outputs": [
    {
     "name": "stdout",
     "output_type": "stream",
     "text": [
      "優\n"
     ]
    }
   ],
   "source": [
    "scores = eval(input(\"請輸入學生分數0~100:\"))\n",
    "if scores >= 90:\n",
    "    print(\"優\")\n",
    "elif scores >= 80:\n",
    "    print(\"甲\")   \n",
    "elif scores >= 70:\n",
    "    print(\"乙\")       \n",
    "elif scores >= 60:\n",
    "    print(\"丙\")\n",
    "else:\n",
    "    print(\"丁\")"
   ]
  },
  {
   "cell_type": "code",
   "execution_count": 6,
   "metadata": {},
   "outputs": [
    {
     "name": "stdout",
     "output_type": "stream",
     "text": [
      "你的身高:170cm\n",
      "你的體重:74cm\n",
      "你的BMI為25.61\n",
      "過重\n"
     ]
    }
   ],
   "source": [
    "try:\n",
    "    height = eval(input(\"請輸入你的身高(cm):\"))\n",
    "    weight = eval(input(\"請輸入你的體重(kg):\"))\n",
    "    BMI = weight/(height/100)**2\n",
    "    print(f\"你的身高:{height}cm\")\n",
    "    print(f\"你的體重:{weight}cm\")\n",
    "    if BMI < 18.5:\n",
    "        print(f\"你的BMI為{BMI:.2f}\")\n",
    "        print(\"體重過輕\")\n",
    "    elif 18.5 <= BMI <24:\n",
    "        print(f\"你的BMI為{BMI:.2f}\")\n",
    "        print(\"正常範圍\")\n",
    "    elif 24 <= BMI <27:\n",
    "        print(f\"你的BMI為{BMI:.2f}\")\n",
    "        print(\"過重\")\n",
    "    elif 27 <= BMI <30:\n",
    "        print(f\"你的BMI為{BMI:.2f}\")\n",
    "        print(\"輕度肥胖\")\n",
    "    elif 30 <= BMI <35:\n",
    "        print(f\"你的BMI為{BMI:.2f}\")\n",
    "        print(\"中度肥胖}\")\n",
    "    else:\n",
    "        print(f\"你的BMI為{BMI:.2f}\")\n",
    "        print(\"重度肥胖\")\n",
    "except SyntaxError:\n",
    "    print(\"格式錯誤，結束程式\")"
   ]
  }
 ],
 "metadata": {
  "kernelspec": {
   "display_name": "Python 3",
   "language": "python",
   "name": "python3"
  },
  "language_info": {
   "codemirror_mode": {
    "name": "ipython",
    "version": 3
   },
   "file_extension": ".py",
   "mimetype": "text/x-python",
   "name": "python",
   "nbconvert_exporter": "python",
   "pygments_lexer": "ipython3",
   "version": "3.10.15"
  }
 },
 "nbformat": 4,
 "nbformat_minor": 2
}
