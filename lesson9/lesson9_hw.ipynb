{
 "cells": [
  {
   "cell_type": "code",
   "execution_count": 3,
   "metadata": {},
   "outputs": [
    {
     "name": "stdout",
     "output_type": "stream",
     "text": [
      "姓名 : 臧怡君\n",
      "身高 : 141\n",
      "體重 : 58\n",
      "BMI : 29.17\n",
      "狀態 : 您的體重:輕度肥胖\n",
      "***************\n",
      "姓名 : 林世城\n",
      "身高 : 156\n",
      "體重 : 60\n",
      "BMI : 24.65\n",
      "狀態 : 您的體重:過重\n",
      "***************\n",
      "姓名 : 謝貞妃\n",
      "身高 : 183\n",
      "體重 : 96\n",
      "BMI : 28.67\n",
      "狀態 : 您的體重:輕度肥胖\n",
      "***************\n"
     ]
    }
   ],
   "source": [
    "import random\n",
    "class BMI():\n",
    "    def __init__(self,name:str,height:int,weight:int):\n",
    "        self.name = name\n",
    "        self.height = height \n",
    "        self.weight = weight\n",
    "    \n",
    "    def get_bmi(self):\n",
    "        return round(self.weight / (self.height/100) ** 2,ndigits = 2)\n",
    "    \n",
    "    def get_status(self):\n",
    "        bmi = self.get_bmi()\n",
    "        if bmi >=35:\n",
    "            status = \"您的體重:重度肥胖\"\n",
    "        elif bmi >= 30:\n",
    "            status = \"您的體重:中度肥胖\"\n",
    "        elif bmi >= 27:\n",
    "            status = \"您的體重:輕度肥胖\"\n",
    "        elif bmi >= 24:\n",
    "            status = \"您的體重:過重\"\n",
    "        elif bmi >= 18.5:\n",
    "            status = \"您的體重:正常範圍\"\n",
    "        else:\n",
    "            status = \"您的體重:體重過輕\"\n",
    "        return status\n",
    "\n",
    "def get_names(nums):\n",
    "    with open(\"names.txt\",\"r\",encoding=\"utf-8\") as file:\n",
    "        names_str = file.read()\n",
    "    names = names_str.split(sep=\"\\n\")\n",
    "    stu_names = random.choices(names,k=nums)\n",
    "    return stu_names\n",
    "\n",
    "def generate_bmi(names):\n",
    "    students=[]\n",
    "    for name in names:\n",
    "        height = random.randint(140,190)\n",
    "        weight = random.randint(50,110)        \n",
    "        stu_STATUS = BMI(name,height,weight)\n",
    "        students.append(stu_STATUS)\n",
    "    return students\n",
    "\n",
    "\n",
    "if __name__ == \"__main__\":\n",
    "    nums = int(input(\"請輸入人數:\"))\n",
    "    #print(f\"請輸入人數:{nums}\")\n",
    "    stu_names = get_names(nums = nums)\n",
    "    stu_bmi = generate_bmi(names = stu_names)\n",
    "    for student in stu_bmi:\n",
    "        print(f\"姓名 : {student.name}\")\n",
    "        print(f\"身高 : {student.height}\")\n",
    "        print(f\"體重 : {student.weight}\")\n",
    "        print(f\"BMI : {student.get_bmi()}\")\n",
    "        print(f\"狀態 : {student.get_status()}\")\n",
    "        print(\"*\"*15)\n",
    "\n"
   ]
  }
 ],
 "metadata": {
  "kernelspec": {
   "display_name": "Python 3",
   "language": "python",
   "name": "python3"
  },
  "language_info": {
   "codemirror_mode": {
    "name": "ipython",
    "version": 3
   },
   "file_extension": ".py",
   "mimetype": "text/x-python",
   "name": "python",
   "nbconvert_exporter": "python",
   "pygments_lexer": "ipython3",
   "version": "3.10.15"
  }
 },
 "nbformat": 4,
 "nbformat_minor": 2
}
