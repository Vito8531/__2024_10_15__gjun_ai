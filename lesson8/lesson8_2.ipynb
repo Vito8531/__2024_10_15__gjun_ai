{
 "cells": [
  {
   "cell_type": "code",
   "execution_count": 15,
   "metadata": {},
   "outputs": [
    {
     "name": "stdout",
     "output_type": "stream",
     "text": [
      "林向鈺\n",
      "簡國瑋\n",
      "黃佩芬\n",
      "龔姵君\n"
     ]
    }
   ],
   "source": [
    "import random\n",
    "def get_names(nums:int=2)->list[str]:\n",
    "    with open('names.txt',encoding='utf-8',mode='r') as file:\n",
    "        names_str = file.read()\n",
    "    names:list[str] = names_str.split(sep='\\n')\n",
    "    names = random.choices(names,k=nums)\n",
    "    return names\n",
    "\n",
    "nums = int(input('請輸入學生數量(最多10位):'))\n",
    "student_names:list[str] = get_names(nums=nums)\n",
    "for name in student_names:\n",
    "    print(name)"
   ]
  },
  {
   "cell_type": "code",
   "execution_count": 16,
   "metadata": {},
   "outputs": [],
   "source": [
    "#def generate_student(names:list[str])->list[dict]:\n",
    "def generate_student(names):\n",
    "    students=[]\n",
    "    for name in names:\n",
    "        chinese = random.randint(0,100)\n",
    "        english = random.randint(0,100)\n",
    "        math = random.randint(0,100)\n",
    "        stu = {\"name\":name,\"chinese\":chinese,\"english\":english,\"math\":math}\n",
    "        students.append(stu)\n",
    "    return students"
   ]
  },
  {
   "cell_type": "code",
   "execution_count": 17,
   "metadata": {},
   "outputs": [
    {
     "data": {
      "text/plain": [
       "[{'name': '林向鈺', 'chinese': 54, 'english': 79, 'math': 21},\n",
       " {'name': '簡國瑋', 'chinese': 78, 'english': 65, 'math': 72},\n",
       " {'name': '黃佩芬', 'chinese': 72, 'english': 14, 'math': 16},\n",
       " {'name': '龔姵君', 'chinese': 67, 'english': 92, 'math': 51}]"
      ]
     },
     "execution_count": 17,
     "metadata": {},
     "output_type": "execute_result"
    }
   ],
   "source": [
    "students = generate_student(names=student_names)\n",
    "students"
   ]
  },
  {
   "cell_type": "code",
   "execution_count": 32,
   "metadata": {},
   "outputs": [
    {
     "name": "stdout",
     "output_type": "stream",
     "text": [
      "請輸入人數:3\n",
      "姓名 : 陳倩潔\n",
      "身高 : 181\n",
      "體重 : 59\n",
      "BMI : 18.01\n",
      "狀態 : 體重過輕\n",
      "=======================\n",
      "姓名 : 陳建豪\n",
      "身高 : 158\n",
      "體重 : 104\n",
      "BMI : 41.66\n",
      "狀態 : 重度肥胖\n",
      "=======================\n",
      "姓名 : 葉祖雄\n",
      "身高 : 145\n",
      "體重 : 67\n",
      "BMI : 31.87\n",
      "狀態 : 中度肥胖\n",
      "=======================\n"
     ]
    }
   ],
   "source": [
    "import random\n",
    "\n",
    "def get_names(nums):\n",
    "    with open(\"names.txt\",\"r\",encoding=\"utf-8\") as file:\n",
    "        names_str = file.read()\n",
    "    names = names_str.split(sep=\"\\n\")\n",
    "    stu_names = random.choices(names,k=nums)\n",
    "    return stu_names\n",
    "\n",
    "def generate_bmi(names):\n",
    "    students=[]\n",
    "    for name in names:\n",
    "        height = random.randint(140,190)\n",
    "        weight = random.randint(50,110)\n",
    "        BMI = weight / (height/100)**2\n",
    "        if BMI >=35:\n",
    "            status = \"重度肥胖\"\n",
    "        elif BMI >= 30:\n",
    "            status = \"中度肥胖\"\n",
    "        elif BMI >= 27:\n",
    "            status = \"輕度肥胖\"\n",
    "        elif BMI >= 24:\n",
    "            status = \"過重\"\n",
    "        elif BMI >= 18.5:\n",
    "            status = \"正常範圍\"\n",
    "        else:\n",
    "            status = \"體重過輕\"\n",
    "        \n",
    "        stu = {\"姓名\":name,\"身高\":height,\"體重\":weight,\"BMI\":round(BMI,2),\"狀態\":status}\n",
    "        students.append(stu)\n",
    "    return students\n",
    "    \n",
    "nums = int(input(\"請輸入人數:\"))\n",
    "print(f\"請輸入人數:{nums}\")\n",
    "student_names = get_names(nums=nums)\n",
    "#print(student_names)\n",
    "student_bmi = generate_bmi(names=student_names)\n",
    "for student in student_bmi:\n",
    "    print(f\"姓名 : {student['姓名']}\")\n",
    "    print(f\"身高 : {student['身高']}\")\n",
    "    print(f\"體重 : {student['體重']}\")\n",
    "    print(f\"BMI : {student['BMI']}\")\n",
    "    print(f\"狀態 : {student['狀態']}\")\n",
    "    print(\"=======================\")\n"
   ]
  }
 ],
 "metadata": {
  "kernelspec": {
   "display_name": "Python 3",
   "language": "python",
   "name": "python3"
  },
  "language_info": {
   "codemirror_mode": {
    "name": "ipython",
    "version": 3
   },
   "file_extension": ".py",
   "mimetype": "text/x-python",
   "name": "python",
   "nbconvert_exporter": "python",
   "pygments_lexer": "ipython3",
   "version": "3.10.15"
  }
 },
 "nbformat": 4,
 "nbformat_minor": 2
}
