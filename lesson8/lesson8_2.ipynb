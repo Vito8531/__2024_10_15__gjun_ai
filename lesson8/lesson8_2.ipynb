{
 "cells": [
  {
   "cell_type": "code",
   "execution_count": 15,
   "metadata": {},
   "outputs": [
    {
     "name": "stdout",
     "output_type": "stream",
     "text": [
      "林向鈺\n",
      "簡國瑋\n",
      "黃佩芬\n",
      "龔姵君\n"
     ]
    }
   ],
   "source": [
    "import random\n",
    "def get_names(nums:int=2)->list[str]:\n",
    "    with open('names.txt',encoding='utf-8',mode='r') as file:\n",
    "        names_str = file.read()\n",
    "    names:list[str] = names_str.split(sep='\\n')\n",
    "    names = random.choices(names,k=nums)\n",
    "    return names\n",
    "\n",
    "nums = int(input('請輸入學生數量(最多10位):'))\n",
    "student_names:list[str] = get_names(nums=nums)\n",
    "for name in student_names:\n",
    "    print(name)"
   ]
  },
  {
   "cell_type": "code",
   "execution_count": 16,
   "metadata": {},
   "outputs": [],
   "source": [
    "#def generate_student(names:list[str])->list[dict]:\n",
    "def generate_student(names):\n",
    "    students=[]\n",
    "    for name in names:\n",
    "        chinese = random.randint(0,100)\n",
    "        english = random.randint(0,100)\n",
    "        math = random.randint(0,100)\n",
    "        stu = {\"name\":name,\"chinese\":chinese,\"english\":english,\"math\":math}\n",
    "        students.append(stu)\n",
    "    return students"
   ]
  },
  {
   "cell_type": "code",
   "execution_count": 17,
   "metadata": {},
   "outputs": [
    {
     "data": {
      "text/plain": [
       "[{'name': '林向鈺', 'chinese': 54, 'english': 79, 'math': 21},\n",
       " {'name': '簡國瑋', 'chinese': 78, 'english': 65, 'math': 72},\n",
       " {'name': '黃佩芬', 'chinese': 72, 'english': 14, 'math': 16},\n",
       " {'name': '龔姵君', 'chinese': 67, 'english': 92, 'math': 51}]"
      ]
     },
     "execution_count": 17,
     "metadata": {},
     "output_type": "execute_result"
    }
   ],
   "source": [
    "students = generate_student(names=student_names)\n",
    "students"
   ]
  }
 ],
 "metadata": {
  "kernelspec": {
   "display_name": "Python 3",
   "language": "python",
   "name": "python3"
  },
  "language_info": {
   "codemirror_mode": {
    "name": "ipython",
    "version": 3
   },
   "file_extension": ".py",
   "mimetype": "text/x-python",
   "name": "python",
   "nbconvert_exporter": "python",
   "pygments_lexer": "ipython3",
   "version": "3.10.15"
  }
 },
 "nbformat": 4,
 "nbformat_minor": 2
}
