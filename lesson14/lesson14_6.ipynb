{
 "cells": [
  {
   "cell_type": "code",
   "execution_count": null,
   "metadata": {},
   "outputs": [
    {
     "name": "stdout",
     "output_type": "stream",
     "text": [
      "學生資料   姓名   身高  體重    BMI         狀態\n",
      "學號                                  \n",
      "1     朱彥志  152  53  22.94  您的體重:正常範圍\n",
      "2     張家秀  173  72  24.06    您的體重:過重\n",
      "3     唐雪豪  169  78  27.31  您的體重:輕度肥胖\n",
      "4     郭淑枝  181  79  24.11    您的體重:過重\n",
      "5     童建霖  153  75  32.04  您的體重:中度肥胖\n"
     ]
    }
   ],
   "source": [
    "import random\n",
    "import pandas as pd\n",
    "\n",
    "class BMI(): \n",
    "    def __init__(self,name:str,height:int,weight:int): \n",
    "        self.name = name\n",
    "        self.height = height\n",
    "        self.weight = weight\n",
    "\n",
    "    def get_bmi(self)->float: #取得bmi\n",
    "        return round(self.weight / (self.height/100) ** 2,ndigits=2)\n",
    "    \n",
    "    def get_status(self)->str:  #取得status\n",
    "        bmi = self.get_bmi()\n",
    "        if bmi >= 35:\n",
    "            status = \"您的體重:重度肥胖\"\n",
    "        elif bmi >= 30:\n",
    "            status = \"您的體重:中度肥胖\"\n",
    "        elif bmi >= 27:\n",
    "            status = \"您的體重:輕度肥胖\"\n",
    "        elif bmi >= 24:\n",
    "            status = \"您的體重:過重\"\n",
    "        elif bmi >= 18.5:\n",
    "            status = \"您的體重:正常範圍\"\n",
    "        else:\n",
    "            status = \"您的體重:體重過輕\"\n",
    "        return status\n",
    "\n",
    "def get_name(nums:int=2)->list[str]: #抓取name.txt裡面的名字\n",
    "    with open('names.txt',mode='r',encoding='utf-8') as file:\n",
    "            names_str = file.read()\n",
    "    names = names_str.split()\n",
    "    names = random.choices(names,k=nums)\n",
    "    return  names\n",
    "     \n",
    "def generate_bmi(names:list[str])->list[BMI]: \n",
    "    students:list[BMI] = []\n",
    "    for name in names:\n",
    "        height = random.randint(140,190)\n",
    "        weight = random.randint(50,110)\n",
    "        student_STATUS = BMI(name, height, weight)\n",
    "        students.append(student_STATUS) #list實體化 \n",
    "    return students\n",
    "\n",
    "if __name__ == '__main__':\n",
    "    nums = int(input('請輸入人數:'))\n",
    "    names:list[str] = get_name(nums=nums)\n",
    "    students:list[BMI] = generate_bmi(names=names)\n",
    "    file_dict:list[dict] = []\n",
    "    for student in students:       \n",
    "       #將資料轉換成字典\n",
    "        student_dict = {\n",
    "        \"姓名\": student.name,\n",
    "        \"身高\": student.height,\n",
    "        \"體重\": student.weight,\n",
    "        \"BMI\": student.get_bmi(),\n",
    "        \"狀態\": student.get_status()\n",
    "        }\n",
    "        file_dict.append(student_dict)  #寫入list[dict]\n",
    "\n",
    "\n",
    "df = pd.DataFrame(file_dict,\n",
    "                  columns=[\"姓名\",\"身高\",\"體重\",\"BMI\",\"狀態\"],\n",
    "                  index=range(1,nums+1))\n",
    "df.index.name=\"學號\"\n",
    "df.columns.name=\"學生資料\"\n",
    "print(df)"
   ]
  }
 ],
 "metadata": {
  "kernelspec": {
   "display_name": "Python 3",
   "language": "python",
   "name": "python3"
  },
  "language_info": {
   "codemirror_mode": {
    "name": "ipython",
    "version": 3
   },
   "file_extension": ".py",
   "mimetype": "text/x-python",
   "name": "python",
   "nbconvert_exporter": "python",
   "pygments_lexer": "ipython3",
   "version": "3.10.15"
  }
 },
 "nbformat": 4,
 "nbformat_minor": 2
}
