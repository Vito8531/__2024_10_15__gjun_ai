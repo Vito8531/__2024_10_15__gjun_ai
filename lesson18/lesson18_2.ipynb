{
 "cells": [
  {
   "cell_type": "code",
   "execution_count": 1,
   "metadata": {},
   "outputs": [],
   "source": [
    "import os\n",
    "import pandas as pd\n",
    "from pandas import DataFrame\n",
    "\n",
    "def merge_data(station_paths:list[str],info:str)->DataFrame:\n",
    "    '''\n",
    "    傳出所有的資料\n",
    "    '''\n",
    "    info_df = pd.read_csv(info)\n",
    "    merge_datas = []\n",
    "    for sta_path in station_paths:\n",
    "        station_df = pd.read_csv(sta_path)\n",
    "        merge_df = pd.merge(station_df, info_df,how='left',left_on='staCode',right_on='stationCode')\n",
    "        merge_datas.append(merge_df)\n",
    "    return pd.concat(merge_datas)\n",
    "\n",
    "\n",
    "current_folder = os.getcwd()\n",
    "stations_folder = os.path.join(current_folder,'stations')\n",
    "csv_abs_files = []\n",
    "for filename in os.listdir(stations_folder):\n",
    "    if '每日各站' in filename:\n",
    "        csv_abs_files.append(os.path.join(stations_folder,filename))\n",
    "\n",
    "info_path = os.path.join(stations_folder,'台鐵車站資訊.csv')\n",
    "\n",
    "\n",
    "df = merge_data(csv_abs_files,info_path)\n",
    "df1 = df[['trnOpDate','gateInComingCnt','gateOutGoingCnt','name','stationAddrTw','haveBike']]"
   ]
  },
  {
   "cell_type": "code",
   "execution_count": null,
   "metadata": {},
   "outputs": [],
   "source": [
    "df1.columns = ['日期','進站人數','出站人數','站名','地址','youbike']\n",
    "df1"
   ]
  },
  {
   "cell_type": "code",
   "execution_count": 3,
   "metadata": {},
   "outputs": [
    {
     "name": "stdout",
     "output_type": "stream",
     "text": [
      "<class 'pandas.core.frame.DataFrame'>\n",
      "Index: 406761 entries, 0 to 86551\n",
      "Data columns (total 6 columns):\n",
      " #   Column   Non-Null Count   Dtype \n",
      "---  ------   --------------   ----- \n",
      " 0   日期       406761 non-null  int64 \n",
      " 1   進站人數     406761 non-null  int64 \n",
      " 2   出站人數     406761 non-null  int64 \n",
      " 3   站名       406761 non-null  object\n",
      " 4   地址       406761 non-null  object\n",
      " 5   youbike  406761 non-null  object\n",
      "dtypes: int64(3), object(3)\n",
      "memory usage: 21.7+ MB\n"
     ]
    }
   ],
   "source": [
    "df1.info()"
   ]
  },
  {
   "cell_type": "code",
   "execution_count": 4,
   "metadata": {},
   "outputs": [
    {
     "name": "stderr",
     "output_type": "stream",
     "text": [
      "/tmp/ipykernel_14817/2470081304.py:1: SettingWithCopyWarning: \n",
      "A value is trying to be set on a copy of a slice from a DataFrame.\n",
      "Try using .loc[row_indexer,col_indexer] = value instead\n",
      "\n",
      "See the caveats in the documentation: https://pandas.pydata.org/pandas-docs/stable/user_guide/indexing.html#returning-a-view-versus-a-copy\n",
      "  df1['日期'] = pd.to_datetime(df1['日期'].astype(str))\n"
     ]
    }
   ],
   "source": [
    "df1['日期'] = pd.to_datetime(df1['日期'].astype(str))"
   ]
  },
  {
   "cell_type": "code",
   "execution_count": 5,
   "metadata": {},
   "outputs": [
    {
     "name": "stderr",
     "output_type": "stream",
     "text": [
      "/tmp/ipykernel_14817/1675081192.py:1: SettingWithCopyWarning: \n",
      "A value is trying to be set on a copy of a slice from a DataFrame.\n",
      "Try using .loc[row_indexer,col_indexer] = value instead\n",
      "\n",
      "See the caveats in the documentation: https://pandas.pydata.org/pandas-docs/stable/user_guide/indexing.html#returning-a-view-versus-a-copy\n",
      "  df1['youbike'] = df1['youbike'].map({'Y':1,'N':0})\n"
     ]
    }
   ],
   "source": [
    "df1['youbike'] = df1['youbike'].map({'Y':1,'N':0})"
   ]
  },
  {
   "cell_type": "code",
   "execution_count": 6,
   "metadata": {},
   "outputs": [],
   "source": [
    "df2 = df1.sort_values(by='日期')\n",
    "df3 = df2.set_index('日期')"
   ]
  },
  {
   "cell_type": "code",
   "execution_count": null,
   "metadata": {},
   "outputs": [],
   "source": [
    "df3"
   ]
  },
  {
   "cell_type": "code",
   "execution_count": null,
   "metadata": {},
   "outputs": [],
   "source": [
    "def first_third(val:str)->str:\n",
    "    return val[:3]\n",
    "\n",
    "df3['地址'].map(first_third)"
   ]
  },
  {
   "cell_type": "code",
   "execution_count": 9,
   "metadata": {},
   "outputs": [],
   "source": [
    "df3['縣市'] = df3['地址'].map(lambda v:v[:3])"
   ]
  },
  {
   "cell_type": "code",
   "execution_count": 10,
   "metadata": {},
   "outputs": [],
   "source": [
    "df3[\"年度\"] = df3.index.strftime('%Y')\n",
    "df3['年月'] = df3.index.strftime('%Y-%m')"
   ]
  },
  {
   "cell_type": "code",
   "execution_count": null,
   "metadata": {},
   "outputs": [],
   "source": [
    "df4 = df3.reindex(columns=['縣市','年度','年月','站名','進站人數','出站人數','youbike'])\n",
    "df4"
   ]
  },
  {
   "cell_type": "code",
   "execution_count": 12,
   "metadata": {},
   "outputs": [],
   "source": [
    "df4.to_csv('全台火車進出站資訊.csv')"
   ]
  }
 ],
 "metadata": {
  "kernelspec": {
   "display_name": "Python 3",
   "language": "python",
   "name": "python3"
  },
  "language_info": {
   "codemirror_mode": {
    "name": "ipython",
    "version": 3
   },
   "file_extension": ".py",
   "mimetype": "text/x-python",
   "name": "python",
   "nbconvert_exporter": "python",
   "pygments_lexer": "ipython3",
   "version": "3.10.15"
  }
 },
 "nbformat": 4,
 "nbformat_minor": 2
}
