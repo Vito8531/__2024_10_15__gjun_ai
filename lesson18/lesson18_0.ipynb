{
 "cells": [
  {
   "cell_type": "code",
   "execution_count": null,
   "metadata": {},
   "outputs": [],
   "source": [
    "import yfinance as yf\n",
    "import pandas as pd\n",
    "\n",
    "all_data = {ticker:yf.download(ticker) for ticker in ['2330.TW','2303.TW','2454.TW','2317.TW']}\n",
    "all_data"
   ]
  },
  {
   "cell_type": "code",
   "execution_count": 2,
   "metadata": {},
   "outputs": [],
   "source": [
    "new_data = {key:df[('Close', key)] for key,df in all_data.items()}\n",
    "df = pd.DataFrame(new_data)\n",
    "df1 = df.rename(columns={\n",
    "    '2330.TW':'台積電',\n",
    "    '2303.TW':'聯電',\n",
    "    '2454.TW':'聯發科',\n",
    "    '2317.TW':'鴻海'})"
   ]
  },
  {
   "cell_type": "code",
   "execution_count": 3,
   "metadata": {},
   "outputs": [],
   "source": [
    "df2 = df1.dropna()"
   ]
  },
  {
   "cell_type": "code",
   "execution_count": 4,
   "metadata": {},
   "outputs": [
    {
     "name": "stdout",
     "output_type": "stream",
     "text": [
      "<class 'pandas.core.frame.DataFrame'>\n",
      "DatetimeIndex: 5816 entries, 2001-07-23 to 2024-12-20\n",
      "Data columns (total 4 columns):\n",
      " #   Column  Non-Null Count  Dtype  \n",
      "---  ------  --------------  -----  \n",
      " 0   台積電     5816 non-null   float64\n",
      " 1   聯電      5816 non-null   float64\n",
      " 2   聯發科     5816 non-null   float64\n",
      " 3   鴻海      5816 non-null   float64\n",
      "dtypes: float64(4)\n",
      "memory usage: 227.2 KB\n"
     ]
    }
   ],
   "source": [
    "df2.info()"
   ]
  },
  {
   "cell_type": "code",
   "execution_count": null,
   "metadata": {},
   "outputs": [],
   "source": [
    "df2"
   ]
  },
  {
   "cell_type": "code",
   "execution_count": 6,
   "metadata": {},
   "outputs": [],
   "source": [
    "df3 = df2.pct_change().dropna()"
   ]
  },
  {
   "cell_type": "code",
   "execution_count": 7,
   "metadata": {},
   "outputs": [
    {
     "data": {
      "text/html": [
       "<div>\n",
       "<style scoped>\n",
       "    .dataframe tbody tr th:only-of-type {\n",
       "        vertical-align: middle;\n",
       "    }\n",
       "\n",
       "    .dataframe tbody tr th {\n",
       "        vertical-align: top;\n",
       "    }\n",
       "\n",
       "    .dataframe thead th {\n",
       "        text-align: right;\n",
       "    }\n",
       "</style>\n",
       "<table border=\"1\" class=\"dataframe\">\n",
       "  <thead>\n",
       "    <tr style=\"text-align: right;\">\n",
       "      <th></th>\n",
       "      <th>台積電</th>\n",
       "      <th>聯電</th>\n",
       "      <th>聯發科</th>\n",
       "      <th>鴻海</th>\n",
       "    </tr>\n",
       "  </thead>\n",
       "  <tbody>\n",
       "    <tr>\n",
       "      <th>台積電</th>\n",
       "      <td>1.000000</td>\n",
       "      <td>0.599553</td>\n",
       "      <td>0.434852</td>\n",
       "      <td>0.487110</td>\n",
       "    </tr>\n",
       "    <tr>\n",
       "      <th>聯電</th>\n",
       "      <td>0.599553</td>\n",
       "      <td>1.000000</td>\n",
       "      <td>0.377422</td>\n",
       "      <td>0.424851</td>\n",
       "    </tr>\n",
       "    <tr>\n",
       "      <th>聯發科</th>\n",
       "      <td>0.434852</td>\n",
       "      <td>0.377422</td>\n",
       "      <td>1.000000</td>\n",
       "      <td>0.372213</td>\n",
       "    </tr>\n",
       "    <tr>\n",
       "      <th>鴻海</th>\n",
       "      <td>0.487110</td>\n",
       "      <td>0.424851</td>\n",
       "      <td>0.372213</td>\n",
       "      <td>1.000000</td>\n",
       "    </tr>\n",
       "  </tbody>\n",
       "</table>\n",
       "</div>"
      ],
      "text/plain": [
       "          台積電        聯電       聯發科        鴻海\n",
       "台積電  1.000000  0.599553  0.434852  0.487110\n",
       "聯電   0.599553  1.000000  0.377422  0.424851\n",
       "聯發科  0.434852  0.377422  1.000000  0.372213\n",
       "鴻海   0.487110  0.424851  0.372213  1.000000"
      ]
     },
     "execution_count": 7,
     "metadata": {},
     "output_type": "execute_result"
    }
   ],
   "source": [
    "df3.corr()"
   ]
  },
  {
   "cell_type": "code",
   "execution_count": 8,
   "metadata": {},
   "outputs": [
    {
     "data": {
      "text/html": [
       "<div>\n",
       "<style scoped>\n",
       "    .dataframe tbody tr th:only-of-type {\n",
       "        vertical-align: middle;\n",
       "    }\n",
       "\n",
       "    .dataframe tbody tr th {\n",
       "        vertical-align: top;\n",
       "    }\n",
       "\n",
       "    .dataframe thead th {\n",
       "        text-align: right;\n",
       "    }\n",
       "</style>\n",
       "<table border=\"1\" class=\"dataframe\">\n",
       "  <thead>\n",
       "    <tr style=\"text-align: right;\">\n",
       "      <th></th>\n",
       "      <th>台積電</th>\n",
       "      <th>聯電</th>\n",
       "      <th>聯發科</th>\n",
       "      <th>鴻海</th>\n",
       "    </tr>\n",
       "    <tr>\n",
       "      <th>Date</th>\n",
       "      <th></th>\n",
       "      <th></th>\n",
       "      <th></th>\n",
       "      <th></th>\n",
       "    </tr>\n",
       "  </thead>\n",
       "  <tbody>\n",
       "    <tr>\n",
       "      <th>2001-07-24</th>\n",
       "      <td>-0.171686</td>\n",
       "      <td>-0.032131</td>\n",
       "      <td>1.789721</td>\n",
       "      <td>-0.304308</td>\n",
       "    </tr>\n",
       "    <tr>\n",
       "      <th>2001-07-25</th>\n",
       "      <td>0.514736</td>\n",
       "      <td>0.289206</td>\n",
       "      <td>2.074514</td>\n",
       "      <td>0.406414</td>\n",
       "    </tr>\n",
       "    <tr>\n",
       "      <th>2001-07-26</th>\n",
       "      <td>0.514727</td>\n",
       "      <td>0.321337</td>\n",
       "      <td>2.165535</td>\n",
       "      <td>0.506495</td>\n",
       "    </tr>\n",
       "    <tr>\n",
       "      <th>2001-07-27</th>\n",
       "      <td>1.029467</td>\n",
       "      <td>0.257076</td>\n",
       "      <td>-0.094818</td>\n",
       "      <td>-0.304299</td>\n",
       "    </tr>\n",
       "    <tr>\n",
       "      <th>2001-07-30</th>\n",
       "      <td>0.000000</td>\n",
       "      <td>0.000000</td>\n",
       "      <td>0.000000</td>\n",
       "      <td>0.000000</td>\n",
       "    </tr>\n",
       "    <tr>\n",
       "      <th>...</th>\n",
       "      <td>...</td>\n",
       "      <td>...</td>\n",
       "      <td>...</td>\n",
       "      <td>...</td>\n",
       "    </tr>\n",
       "    <tr>\n",
       "      <th>2024-12-16</th>\n",
       "      <td>20.000000</td>\n",
       "      <td>0.000000</td>\n",
       "      <td>-25.000000</td>\n",
       "      <td>-4.500000</td>\n",
       "    </tr>\n",
       "    <tr>\n",
       "      <th>2024-12-17</th>\n",
       "      <td>-10.000000</td>\n",
       "      <td>1.099998</td>\n",
       "      <td>40.000000</td>\n",
       "      <td>1.000000</td>\n",
       "    </tr>\n",
       "    <tr>\n",
       "      <th>2024-12-18</th>\n",
       "      <td>10.000000</td>\n",
       "      <td>1.150002</td>\n",
       "      <td>-5.000000</td>\n",
       "      <td>1.500000</td>\n",
       "    </tr>\n",
       "    <tr>\n",
       "      <th>2024-12-19</th>\n",
       "      <td>-15.000000</td>\n",
       "      <td>-0.700001</td>\n",
       "      <td>0.000000</td>\n",
       "      <td>-3.500000</td>\n",
       "    </tr>\n",
       "    <tr>\n",
       "      <th>2024-12-20</th>\n",
       "      <td>-35.000000</td>\n",
       "      <td>-0.650002</td>\n",
       "      <td>-30.000000</td>\n",
       "      <td>0.000000</td>\n",
       "    </tr>\n",
       "  </tbody>\n",
       "</table>\n",
       "<p>5815 rows × 4 columns</p>\n",
       "</div>"
      ],
      "text/plain": [
       "                  台積電        聯電        聯發科        鴻海\n",
       "Date                                                \n",
       "2001-07-24  -0.171686 -0.032131   1.789721 -0.304308\n",
       "2001-07-25   0.514736  0.289206   2.074514  0.406414\n",
       "2001-07-26   0.514727  0.321337   2.165535  0.506495\n",
       "2001-07-27   1.029467  0.257076  -0.094818 -0.304299\n",
       "2001-07-30   0.000000  0.000000   0.000000  0.000000\n",
       "...               ...       ...        ...       ...\n",
       "2024-12-16  20.000000  0.000000 -25.000000 -4.500000\n",
       "2024-12-17 -10.000000  1.099998  40.000000  1.000000\n",
       "2024-12-18  10.000000  1.150002  -5.000000  1.500000\n",
       "2024-12-19 -15.000000 -0.700001   0.000000 -3.500000\n",
       "2024-12-20 -35.000000 -0.650002 -30.000000  0.000000\n",
       "\n",
       "[5815 rows x 4 columns]"
      ]
     },
     "execution_count": 8,
     "metadata": {},
     "output_type": "execute_result"
    }
   ],
   "source": [
    "(df2 - df2.shift(1)).dropna()"
   ]
  }
 ],
 "metadata": {
  "kernelspec": {
   "display_name": "Python 3",
   "language": "python",
   "name": "python3"
  },
  "language_info": {
   "codemirror_mode": {
    "name": "ipython",
    "version": 3
   },
   "file_extension": ".py",
   "mimetype": "text/x-python",
   "name": "python",
   "nbconvert_exporter": "python",
   "pygments_lexer": "ipython3",
   "version": "3.10.15"
  }
 },
 "nbformat": 4,
 "nbformat_minor": 2
}
