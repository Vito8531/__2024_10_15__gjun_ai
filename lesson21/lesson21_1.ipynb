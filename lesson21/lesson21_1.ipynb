{
 "cells": [
  {
   "cell_type": "code",
   "execution_count": 4,
   "metadata": {},
   "outputs": [],
   "source": [
    "import os\n",
    "from dotenv import load_dotenv\n",
    "load_dotenv()\n",
    "key=os.environ['Gemini_API_Key']"
   ]
  },
  {
   "cell_type": "code",
   "execution_count": 5,
   "metadata": {},
   "outputs": [
    {
     "name": "stdout",
     "output_type": "stream",
     "text": [
      "```html\n",
      "<!DOCTYPE html>\n",
      "<html lang=\"zh-TW\">\n",
      "<head>\n",
      "    <meta charset=\"UTF-8\">\n",
      "    <meta name=\"viewport\" content=\"width=device-width, initial-scale=1.0\">\n",
      "    <title>如何學習 Python</title>\n",
      "    <style>\n",
      "        body {\n",
      "            font-family: sans-serif;\n",
      "            line-height: 1.6;\n",
      "        }\n",
      "        h1, h2 {\n",
      "            color: #333;\n",
      "        }\n",
      "        ul {\n",
      "            list-style-type: disc;\n",
      "            margin-left: 20px;\n",
      "        }\n",
      "        a {\n",
      "            color: #007bff;\n",
      "            text-decoration: none;\n",
      "        }\n",
      "        a:hover {\n",
      "            text-decoration: underline;\n",
      "        }\n",
      "    </style>\n",
      "</head>\n",
      "<body>\n",
      "    <h1>如何學習 Python</h1>\n",
      "\n",
      "    <p>學習 Python 是一個循序漸進的過程，你可以根據自己的學習風格和目標，選擇適合自己的學習方法。以下是一些建議：</p>\n",
      "\n",
      "    <h2>1. 選擇學習資源</h2>\n",
      "    <ul>\n",
      "        <li><strong>線上課程：</strong>\n",
      "            <ul>\n",
      "                <li><a href=\"https://www.codecademy.com/learn/learn-python-3\" target=\"_blank\">Codecademy</a> (互動式課程，適合初學者)</li>\n",
      "                <li><a href=\"https://www.coursera.org/learn/python\" target=\"_blank\">Coursera</a> (提供多種 Python 課程，包含入門到進階)</li>\n",
      "                <li><a href=\"https://www.udemy.com/topic/python/\" target=\"_blank\">Udemy</a> (大量的 Python 課程，價格差異較大)</li>\n",
      "                <li><a href=\"https://www.freecodecamp.org/learn/scientific-computing-with-python/\" target=\"_blank\">freeCodeCamp</a> (免費且涵蓋廣泛的主題)</li>\n",
      "            </ul>\n",
      "        </li>\n",
      "        <li><strong>書籍：</strong>\n",
      "            <ul>\n",
      "                <li>《Python 程式設計入門指南》(適合初學者)</li>\n",
      "                <li>《流畅的 Python》(適合有一定基礎的學習者)</li>\n",
      "                <li>《Python 學習手冊》(詳盡的參考書)</li>\n",
      "            </ul>\n",
      "            (請自行搜尋相關書籍，選擇適合自己程度的書籍)\n",
      "        </li>\n",
      "        <li><strong>官方文檔：</strong> <a href=\"https://docs.python.org/3/\" target=\"_blank\">Python 官方文檔</a> (最權威的資源，適合查找特定函數或模組的用法)</li>\n",
      "    </ul>\n",
      "\n",
      "\n",
      "    <h2>2. 制定學習計畫</h2>\n",
      "    <p>設定明確的學習目標，例如：學會網頁開發、資料分析或機器學習。將學習內容分解成小的步驟，循序漸進地學習，避免一次學習太多內容而感到挫折。</p>\n",
      "\n",
      "    <h2>3. 練習程式碼</h2>\n",
      "    <p>程式設計是需要大量練習的，建議你多練習寫程式碼，並嘗試解決不同的問題。可以從簡單的練習開始，例如：計算器、猜數字遊戲等，逐步提升難度。</p>\n",
      "\n",
      "    <h2>4. 加入社群</h2>\n",
      "    <p>加入 Python 社群可以向其他學習者和專家學習，互相交流經驗，解決學習過程中遇到的問題。例如： Stack Overflow, Reddit 的 r/learnpython 等。</p>\n",
      "\n",
      "    <h2>5. 持續學習</h2>\n",
      "    <p>Python 是一個不斷發展的語言，持續學習新的知識和技術非常重要。可以關注 Python 的最新動態，閱讀相關文章和書籍，參加線上或線下的研討會。</p>\n",
      "\n",
      "    <p>祝你學習愉快！</p>\n",
      "</body>\n",
      "</html>\n",
      "```\n",
      "\n"
     ]
    }
   ],
   "source": [
    "import google.generativeai as genai\n",
    "\n",
    "genai.configure(api_key=key)\n",
    "model = genai.GenerativeModel(\"gemini-1.5-flash\")\n",
    "response = model.generate_content(\"如何學習python?,回應請輸出成為html格式\")\n",
    "print(response.text)"
   ]
  }
 ],
 "metadata": {
  "kernelspec": {
   "display_name": "Python 3",
   "language": "python",
   "name": "python3"
  },
  "language_info": {
   "codemirror_mode": {
    "name": "ipython",
    "version": 3
   },
   "file_extension": ".py",
   "mimetype": "text/x-python",
   "name": "python",
   "nbconvert_exporter": "python",
   "pygments_lexer": "ipython3",
   "version": "3.10.15"
  }
 },
 "nbformat": 4,
 "nbformat_minor": 2
}
