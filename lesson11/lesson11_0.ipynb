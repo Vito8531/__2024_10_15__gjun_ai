{
 "cells": [
  {
   "cell_type": "code",
   "execution_count": 1,
   "metadata": {},
   "outputs": [
    {
     "name": "stdout",
     "output_type": "stream",
     "text": [
      "姓名 : 林佳光\n",
      "身高 : 174\n",
      "體重 : 80\n",
      "BMI : 26.42\n",
      "狀態 : 您的體重:過重\n",
      "***************\n",
      "姓名 : 白世宏\n",
      "身高 : 161\n",
      "體重 : 102\n",
      "BMI : 39.35\n",
      "狀態 : 您的體重:重度肥胖\n",
      "***************\n"
     ]
    }
   ],
   "source": [
    "import tools\n",
    "from tools import BMI\n",
    "\n",
    "if __name__ == \"__main__\":\n",
    "    nums = int(input(\"請輸入人數:\"))\n",
    "    #print(f\"請輸入人數:{nums}\")\n",
    "    stu_names:list[str] = tools.get_names(nums = nums)\n",
    "    stu_bmi:list[BMI] = tools.generate_bmi(names = stu_names)\n",
    "    for student in stu_bmi:\n",
    "        print(f\"姓名 : {student.name}\")\n",
    "        print(f\"身高 : {student.height}\")\n",
    "        print(f\"體重 : {student.weight}\")\n",
    "        print(f\"BMI : {student.get_bmi()}\")\n",
    "        print(f\"狀態 : {student.get_status()}\")\n",
    "        print(\"*\"*15)"
   ]
  },
  {
   "cell_type": "code",
   "execution_count": 5,
   "metadata": {},
   "outputs": [],
   "source": [
    "import tools\n",
    "from tools import BMI\n",
    "from pprint import pprint\n",
    "import csv\n",
    "\n",
    "if __name__ == '__main__':\n",
    "    nums = int(input('請輸入人數:'))\n",
    "    names:list[str] = tools.get_names(nums=nums)\n",
    "    students:list[BMI] = tools.generate_bmi(names=names)\n",
    "    file_dict:list[dict] = []\n",
    "    for student in students:\n",
    "        student_dict = {\n",
    "        \"姓名\": student.name,\n",
    "        \"身高\": student.height,\n",
    "        \"體重\": student.weight,\n",
    "        \"BMI\": student.get_bmi(),\n",
    "        \"狀態\": student.get_status()\n",
    "        } \n",
    "        file_dict.append(student_dict)\n",
    "    \n",
    "    #pprint(file_dict)\n",
    "    with open('bmi.csv',mode='w+',encoding='utf-8',newline=\"\") as file:\n",
    "        dict_writer = csv.DictWriter(file,['姓名',\"身高\",'體重','BMI','狀態'])\n",
    "        dict_writer.writeheader()\n",
    "        dict_writer.writerows(file_dict)"
   ]
  }
 ],
 "metadata": {
  "kernelspec": {
   "display_name": "Python 3",
   "language": "python",
   "name": "python3"
  },
  "language_info": {
   "codemirror_mode": {
    "name": "ipython",
    "version": 3
   },
   "file_extension": ".py",
   "mimetype": "text/x-python",
   "name": "python",
   "nbconvert_exporter": "python",
   "pygments_lexer": "ipython3",
   "version": "3.10.15"
  }
 },
 "nbformat": 4,
 "nbformat_minor": 2
}
