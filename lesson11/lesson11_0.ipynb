{
 "cells": [
  {
   "cell_type": "code",
   "execution_count": null,
   "metadata": {},
   "outputs": [
    {
     "name": "stdout",
     "output_type": "stream",
     "text": [
      "姓名 : 林詠斌\n",
      "身高 : 177\n",
      "體重 : 55\n",
      "BMI : 17.56\n",
      "狀態 : 您的體重:體重過輕\n",
      "***************\n",
      "姓名 : 洪奎夫\n",
      "身高 : 158\n",
      "體重 : 82\n",
      "BMI : 32.85\n",
      "狀態 : 您的體重:中度肥胖\n",
      "***************\n",
      "姓名 : 王柏聖\n",
      "身高 : 187\n",
      "體重 : 74\n",
      "BMI : 21.16\n",
      "狀態 : 您的體重:正常範圍\n",
      "***************\n",
      "姓名 : 蔡士賢\n",
      "身高 : 177\n",
      "體重 : 80\n",
      "BMI : 25.54\n",
      "狀態 : 您的體重:過重\n",
      "***************\n",
      "姓名 : 錢佩豪\n",
      "身高 : 170\n",
      "體重 : 51\n",
      "BMI : 17.65\n",
      "狀態 : 您的體重:體重過輕\n",
      "***************\n"
     ]
    }
   ],
   "source": [
    "import tools\n",
    "from tools import BMI\n",
    "\n",
    "if __name__ == \"__main__\":\n",
    "    nums = int(input(\"請輸入人數:\"))\n",
    "    #print(f\"請輸入人數:{nums}\")\n",
    "    stu_names:list[str] = tools.get_names(nums = nums)\n",
    "    stu_bmi:list[BMI] = tools.generate_bmi(names = stu_names)\n",
    "    for student in stu_bmi:\n",
    "        print(f\"姓名 : {student.name}\")\n",
    "        print(f\"身高 : {student.height}\")\n",
    "        print(f\"體重 : {student.weight}\")\n",
    "        print(f\"BMI : {student.get_bmi()}\")\n",
    "        print(f\"狀態 : {student.get_status()}\")\n",
    "        print(\"*\"*15)"
   ]
  },
  {
   "cell_type": "code",
   "execution_count": 5,
   "metadata": {},
   "outputs": [],
   "source": [
    "import tools\n",
    "from tools import BMI\n",
    "from pprint import pprint\n",
    "import csv\n",
    "\n",
    "if __name__ == '__main__':\n",
    "    nums = int(input('請輸入人數:'))\n",
    "    names:list[str] = tools.get_names(nums=nums)\n",
    "    students:list[BMI] = tools.generate_bmi(names=names)\n",
    "    file_dict:list[dict] = []\n",
    "    for student in students:\n",
    "        student_dict = {\n",
    "        \"姓名\": student.name,\n",
    "        \"身高\": student.height,\n",
    "        \"體重\": student.weight,\n",
    "        \"BMI\": student.get_bmi(),\n",
    "        \"狀態\": student.get_status()\n",
    "        } \n",
    "        file_dict.append(student_dict)\n",
    "    \n",
    "    #pprint(file_dict)\n",
    "    with open('bmi.csv',mode='w+',encoding='utf-8',newline=\"\") as file:\n",
    "        dict_writer = csv.DictWriter(file,['姓名',\"身高\",'體重','BMI','狀態'])\n",
    "        dict_writer.writeheader()\n",
    "        dict_writer.writerows(file_dict)"
   ]
  }
 ],
 "metadata": {
  "kernelspec": {
   "display_name": "Python 3",
   "language": "python",
   "name": "python3"
  },
  "language_info": {
   "codemirror_mode": {
    "name": "ipython",
    "version": 3
   },
   "file_extension": ".py",
   "mimetype": "text/x-python",
   "name": "python",
   "nbconvert_exporter": "python",
   "pygments_lexer": "ipython3",
   "version": "3.10.15"
  }
 },
 "nbformat": 4,
 "nbformat_minor": 2
}
