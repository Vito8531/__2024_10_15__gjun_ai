{
 "cells": [
  {
   "cell_type": "code",
   "execution_count": null,
   "metadata": {},
   "outputs": [],
   "source": [
    "import pandas as pd\n",
    "df=pd.read_csv(\"上市公司資料.csv\")\n",
    "df1=df[[\"公司代號\",\"公司名稱\",\"產業別\",\n",
    "        \"營業收入-當月營收\",\"營業收入-上月營收\",\n",
    "        \"營業收入-上月比較增減(%)\",\"營業收入-去年同月增減(%)\"]]\n",
    "\n",
    "df2=df1.astype({\"公司代號\":str})\n",
    "#df2.info()\n",
    "df2[\"營業收入-上月比較增減(%)\"]=df2[\"營業收入-上月比較增減(%)\"].apply(lambda x:f\"{x:.2f}%\")\n",
    "df2['營業收入-去年同月增減(%)']=df2[\"營業收入-去年同月增減(%)\"].apply(lambda x:f\"{x:.2f}%\")\n",
    "df2.style.format(precision=2,thousands=\",\")\n"
   ]
  }
 ],
 "metadata": {
  "kernelspec": {
   "display_name": "Python 3",
   "language": "python",
   "name": "python3"
  },
  "language_info": {
   "codemirror_mode": {
    "name": "ipython",
    "version": 3
   },
   "file_extension": ".py",
   "mimetype": "text/x-python",
   "name": "python",
   "nbconvert_exporter": "python",
   "pygments_lexer": "ipython3",
   "version": "3.10.15"
  }
 },
 "nbformat": 4,
 "nbformat_minor": 2
}
