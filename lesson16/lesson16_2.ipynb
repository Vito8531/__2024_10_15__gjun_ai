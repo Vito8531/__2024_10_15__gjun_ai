{
 "cells": [
  {
   "cell_type": "code",
   "execution_count": null,
   "metadata": {},
   "outputs": [],
   "source": [
    "import pandas as pd\n",
    "\n",
    "df1 = pd.read_csv('new各鄉鎮市區人口密度.csv')\n",
    "display(df1)\n",
    "def format1(value:int):\n",
    "    return f\"第{value}號\"\n",
    "df1.style\\\n",
    ".format(precision=2,thousands=',',decimal='.')\\\n",
    ".format_index(format1)"
   ]
  },
  {
   "cell_type": "code",
   "execution_count": null,
   "metadata": {},
   "outputs": [],
   "source": [
    "df1 = pd.read_csv('new各鄉鎮市區人口密度.csv')\n",
    "display(df1)\n",
    "df1.style\\\n",
    ".format(precision=2,thousands=',',decimal='.')\\\n",
    ".format_index(lambda value:f'第{value}號')"
   ]
  },
  {
   "cell_type": "code",
   "execution_count": 3,
   "metadata": {},
   "outputs": [],
   "source": [
    "import numpy as np\n",
    "weather_df = pd.DataFrame(np.random.rand(10,2)*5,\n",
    "                        index=pd.date_range(start=\"2021-01-01\", periods=10),\n",
    "                        columns=[\"Tokyo\", \"Taipei\"])"
   ]
  },
  {
   "cell_type": "code",
   "execution_count": 4,
   "metadata": {},
   "outputs": [
    {
     "data": {
      "text/html": [
       "<style type=\"text/css\">\n",
       "#T_919df_row0_col0 {\n",
       "  background-color: #eff9e9;\n",
       "  color: #000000;\n",
       "}\n",
       "#T_919df_row0_col1 {\n",
       "  background-color: #2182b9;\n",
       "  color: #f1f1f1;\n",
       "}\n",
       "#T_919df_row1_col0 {\n",
       "  background-color: #084a8c;\n",
       "  color: #f1f1f1;\n",
       "}\n",
       "#T_919df_row1_col1 {\n",
       "  background-color: #68c1ca;\n",
       "  color: #000000;\n",
       "}\n",
       "#T_919df_row2_col0 {\n",
       "  background-color: #0864a8;\n",
       "  color: #f1f1f1;\n",
       "}\n",
       "#T_919df_row2_col1 {\n",
       "  background-color: #2687bb;\n",
       "  color: #f1f1f1;\n",
       "}\n",
       "#T_919df_row3_col0 {\n",
       "  background-color: #1576b3;\n",
       "  color: #f1f1f1;\n",
       "}\n",
       "#T_919df_row3_col1 {\n",
       "  background-color: #2c8ebf;\n",
       "  color: #f1f1f1;\n",
       "}\n",
       "#T_919df_row4_col0 {\n",
       "  background-color: #47abcf;\n",
       "  color: #f1f1f1;\n",
       "}\n",
       "#T_919df_row4_col1 {\n",
       "  background-color: #2d8fbf;\n",
       "  color: #f1f1f1;\n",
       "}\n",
       "#T_919df_row5_col0 {\n",
       "  background-color: #61bdcd;\n",
       "  color: #000000;\n",
       "}\n",
       "#T_919df_row5_col1 {\n",
       "  background-color: #1475b2;\n",
       "  color: #f1f1f1;\n",
       "}\n",
       "#T_919df_row6_col0 {\n",
       "  background-color: #ceecc7;\n",
       "  color: #000000;\n",
       "}\n",
       "#T_919df_row6_col1 {\n",
       "  background-color: #e4f4de;\n",
       "  color: #000000;\n",
       "}\n",
       "#T_919df_row7_col0 {\n",
       "  background-color: #5dbbce;\n",
       "  color: #000000;\n",
       "}\n",
       "#T_919df_row7_col1 {\n",
       "  background-color: #3fa2ca;\n",
       "  color: #f1f1f1;\n",
       "}\n",
       "#T_919df_row8_col0 {\n",
       "  background-color: #77cac5;\n",
       "  color: #000000;\n",
       "}\n",
       "#T_919df_row8_col1 {\n",
       "  background-color: #b5e2bb;\n",
       "  color: #000000;\n",
       "}\n",
       "#T_919df_row9_col0 {\n",
       "  background-color: #0a6aad;\n",
       "  color: #f1f1f1;\n",
       "}\n",
       "#T_919df_row9_col1 {\n",
       "  background-color: #f7fcf0;\n",
       "  color: #000000;\n",
       "}\n",
       "</style>\n",
       "<table id=\"T_919df\">\n",
       "  <caption>Weather Conditions</caption>\n",
       "  <thead>\n",
       "    <tr>\n",
       "      <th class=\"blank level0\" >&nbsp;</th>\n",
       "      <th id=\"T_919df_level0_col0\" class=\"col_heading level0 col0\" >Tokyo</th>\n",
       "      <th id=\"T_919df_level0_col1\" class=\"col_heading level0 col1\" >Taipei</th>\n",
       "    </tr>\n",
       "  </thead>\n",
       "  <tbody>\n",
       "    <tr>\n",
       "      <th id=\"T_919df_level0_row0\" class=\"row_heading level0 row0\" >Fri</th>\n",
       "      <td id=\"T_919df_row0_col0\" class=\"data row0 col0\" >1.183039</td>\n",
       "      <td id=\"T_919df_row0_col1\" class=\"data row0 col1\" >4.137120</td>\n",
       "    </tr>\n",
       "    <tr>\n",
       "      <th id=\"T_919df_level0_row1\" class=\"row_heading level0 row1\" >Sat</th>\n",
       "      <td id=\"T_919df_row1_col0\" class=\"data row1 col0\" >4.872471</td>\n",
       "      <td id=\"T_919df_row1_col1\" class=\"data row1 col1\" >3.209181</td>\n",
       "    </tr>\n",
       "    <tr>\n",
       "      <th id=\"T_919df_level0_row2\" class=\"row_heading level0 row2\" >Sun</th>\n",
       "      <td id=\"T_919df_row2_col0\" class=\"data row2 col0\" >4.546094</td>\n",
       "      <td id=\"T_919df_row2_col1\" class=\"data row2 col1\" >4.065475</td>\n",
       "    </tr>\n",
       "    <tr>\n",
       "      <th id=\"T_919df_level0_row3\" class=\"row_heading level0 row3\" >Mon</th>\n",
       "      <td id=\"T_919df_row3_col0\" class=\"data row3 col0\" >4.303714</td>\n",
       "      <td id=\"T_919df_row3_col1\" class=\"data row3 col1\" >3.982857</td>\n",
       "    </tr>\n",
       "    <tr>\n",
       "      <th id=\"T_919df_level0_row4\" class=\"row_heading level0 row4\" >Tue</th>\n",
       "      <td id=\"T_919df_row4_col0\" class=\"data row4 col0\" >3.595230</td>\n",
       "      <td id=\"T_919df_row4_col1\" class=\"data row4 col1\" >3.958152</td>\n",
       "    </tr>\n",
       "    <tr>\n",
       "      <th id=\"T_919df_level0_row5\" class=\"row_heading level0 row5\" >Wed</th>\n",
       "      <td id=\"T_919df_row5_col0\" class=\"data row5 col0\" >3.296347</td>\n",
       "      <td id=\"T_919df_row5_col1\" class=\"data row5 col1\" >4.326193</td>\n",
       "    </tr>\n",
       "    <tr>\n",
       "      <th id=\"T_919df_level0_row6\" class=\"row_heading level0 row6\" >Thu</th>\n",
       "      <td id=\"T_919df_row6_col0\" class=\"data row6 col0\" >1.961268</td>\n",
       "      <td id=\"T_919df_row6_col1\" class=\"data row6 col1\" >1.429846</td>\n",
       "    </tr>\n",
       "    <tr>\n",
       "      <th id=\"T_919df_level0_row7\" class=\"row_heading level0 row7\" >Fri</th>\n",
       "      <td id=\"T_919df_row7_col0\" class=\"data row7 col0\" >3.336499</td>\n",
       "      <td id=\"T_919df_row7_col1\" class=\"data row7 col1\" >3.713644</td>\n",
       "    </tr>\n",
       "    <tr>\n",
       "      <th id=\"T_919df_level0_row8\" class=\"row_heading level0 row8\" >Sat</th>\n",
       "      <td id=\"T_919df_row8_col0\" class=\"data row8 col0\" >3.043531</td>\n",
       "      <td id=\"T_919df_row8_col1\" class=\"data row8 col1\" >2.314559</td>\n",
       "    </tr>\n",
       "    <tr>\n",
       "      <th id=\"T_919df_level0_row9\" class=\"row_heading level0 row9\" >Sun</th>\n",
       "      <td id=\"T_919df_row9_col0\" class=\"data row9 col0\" >4.455991</td>\n",
       "      <td id=\"T_919df_row9_col1\" class=\"data row9 col1\" >0.306320</td>\n",
       "    </tr>\n",
       "  </tbody>\n",
       "</table>\n"
      ],
      "text/plain": [
       "<pandas.io.formats.style.Styler at 0x788de73c13f0>"
      ]
     },
     "execution_count": 4,
     "metadata": {},
     "output_type": "execute_result"
    }
   ],
   "source": [
    "weather_df.style\\\n",
    ".set_caption('Weather Conditions')\\\n",
    ".format_index(lambda v:v.strftime(\"%a\"))\\\n",
    ".background_gradient(vmin=1,vmax=5,cmap='GnBu')"
   ]
  },
  {
   "cell_type": "code",
   "execution_count": 5,
   "metadata": {},
   "outputs": [
    {
     "data": {
      "text/plain": [
       "DatetimeIndex(['2021-01-01', '2021-01-02', '2021-01-03', '2021-01-04',\n",
       "               '2021-01-05', '2021-01-06', '2021-01-07', '2021-01-08',\n",
       "               '2021-01-09', '2021-01-10'],\n",
       "              dtype='datetime64[ns]', freq='D')"
      ]
     },
     "execution_count": 5,
     "metadata": {},
     "output_type": "execute_result"
    }
   ],
   "source": [
    "weather_df.index"
   ]
  }
 ],
 "metadata": {
  "kernelspec": {
   "display_name": "Python 3",
   "language": "python",
   "name": "python3"
  },
  "language_info": {
   "codemirror_mode": {
    "name": "ipython",
    "version": 3
   },
   "file_extension": ".py",
   "mimetype": "text/x-python",
   "name": "python",
   "nbconvert_exporter": "python",
   "pygments_lexer": "ipython3",
   "version": "3.10.15"
  }
 },
 "nbformat": 4,
 "nbformat_minor": 2
}
